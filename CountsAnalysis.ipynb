{
 "cells": [
  {
   "cell_type": "markdown",
   "metadata": {},
   "source": [
    "# Working with the St. Jude Cloud RNA-Seq counts\n",
    "\n",
    "This Jupyter notebook is intended to serve as a proof of concept for requesting, aggregating, downloading, and then analyzing RNA-Seq expression counts from the St. Jude Cloud Genomics Platform. Counts can be downloaded without the need to submit a data access request, and generating a working `counts-matrix.tsv` and `metadata-matrix.tsv` is trivial. \n",
    "\n",
    "**Note.** This Jupyter notebook has not been peer reviewed and is not part of the St. Jude Cloud RNA-Seq expression landscape analysis included in the paper. Instead, it's a tutorial for downloading the counts and doing analysis yourself—the fact that we create a t-SNE plot here is a matter of coincidence. If you are interested in that reviewing the expression analysis present in the paper, please view [the paper collection in the Visualization Community](https://viz.stjude.cloud/stjudecloud/collection/stjudecloud-paper)."
   ]
  },
  {
   "cell_type": "markdown",
   "metadata": {},
   "source": [
    "## Environment Setup"
   ]
  },
  {
   "cell_type": "markdown",
   "metadata": {},
   "source": [
    "Below, you'll find some instructions to easily bootstrap up an environment with the necessary dependencies using [Anaconda](https://docs.anaconda.com/anaconda/install/). You'll need to be sure to run the `jupyter notebook` command _after_ you've activated this environment so the notebook runs there."
   ]
  },
  {
   "cell_type": "code",
   "execution_count": 1,
   "metadata": {},
   "outputs": [],
   "source": [
    "# conda create -c bioconda -c conda-forge -n rnaseq-count-analysis python=3.7 R matplotlib pandas rpy2 seaborn bokeh scikit-learn bioconductor-sva bioconductor-deseq2 jupyter tqdm -y\n",
    "# conda activate rnaseq-count-analysis\n",
    "# jupyter notebook"
   ]
  },
  {
   "cell_type": "markdown",
   "metadata": {},
   "source": [
    "Next, let's load the dependencies needed to perform the analysis."
   ]
  },
  {
   "cell_type": "code",
   "execution_count": 2,
   "metadata": {},
   "outputs": [
    {
     "data": {
      "text/html": [
       "\n",
       "    <div class=\"bk-root\">\n",
       "        <a href=\"https://bokeh.org\" target=\"_blank\" class=\"bk-logo bk-logo-small bk-logo-notebook\"></a>\n",
       "        <span id=\"1001\">Loading BokehJS ...</span>\n",
       "    </div>"
      ]
     },
     "metadata": {},
     "output_type": "display_data"
    },
    {
     "data": {
      "application/javascript": [
       "\n",
       "(function(root) {\n",
       "  function now() {\n",
       "    return new Date();\n",
       "  }\n",
       "\n",
       "  var force = true;\n",
       "\n",
       "  if (typeof root._bokeh_onload_callbacks === \"undefined\" || force === true) {\n",
       "    root._bokeh_onload_callbacks = [];\n",
       "    root._bokeh_is_loading = undefined;\n",
       "  }\n",
       "\n",
       "  var JS_MIME_TYPE = 'application/javascript';\n",
       "  var HTML_MIME_TYPE = 'text/html';\n",
       "  var EXEC_MIME_TYPE = 'application/vnd.bokehjs_exec.v0+json';\n",
       "  var CLASS_NAME = 'output_bokeh rendered_html';\n",
       "\n",
       "  /**\n",
       "   * Render data to the DOM node\n",
       "   */\n",
       "  function render(props, node) {\n",
       "    var script = document.createElement(\"script\");\n",
       "    node.appendChild(script);\n",
       "  }\n",
       "\n",
       "  /**\n",
       "   * Handle when an output is cleared or removed\n",
       "   */\n",
       "  function handleClearOutput(event, handle) {\n",
       "    var cell = handle.cell;\n",
       "\n",
       "    var id = cell.output_area._bokeh_element_id;\n",
       "    var server_id = cell.output_area._bokeh_server_id;\n",
       "    // Clean up Bokeh references\n",
       "    if (id != null && id in Bokeh.index) {\n",
       "      Bokeh.index[id].model.document.clear();\n",
       "      delete Bokeh.index[id];\n",
       "    }\n",
       "\n",
       "    if (server_id !== undefined) {\n",
       "      // Clean up Bokeh references\n",
       "      var cmd = \"from bokeh.io.state import curstate; print(curstate().uuid_to_server['\" + server_id + \"'].get_sessions()[0].document.roots[0]._id)\";\n",
       "      cell.notebook.kernel.execute(cmd, {\n",
       "        iopub: {\n",
       "          output: function(msg) {\n",
       "            var id = msg.content.text.trim();\n",
       "            if (id in Bokeh.index) {\n",
       "              Bokeh.index[id].model.document.clear();\n",
       "              delete Bokeh.index[id];\n",
       "            }\n",
       "          }\n",
       "        }\n",
       "      });\n",
       "      // Destroy server and session\n",
       "      var cmd = \"import bokeh.io.notebook as ion; ion.destroy_server('\" + server_id + \"')\";\n",
       "      cell.notebook.kernel.execute(cmd);\n",
       "    }\n",
       "  }\n",
       "\n",
       "  /**\n",
       "   * Handle when a new output is added\n",
       "   */\n",
       "  function handleAddOutput(event, handle) {\n",
       "    var output_area = handle.output_area;\n",
       "    var output = handle.output;\n",
       "\n",
       "    // limit handleAddOutput to display_data with EXEC_MIME_TYPE content only\n",
       "    if ((output.output_type != \"display_data\") || (!output.data.hasOwnProperty(EXEC_MIME_TYPE))) {\n",
       "      return\n",
       "    }\n",
       "\n",
       "    var toinsert = output_area.element.find(\".\" + CLASS_NAME.split(' ')[0]);\n",
       "\n",
       "    if (output.metadata[EXEC_MIME_TYPE][\"id\"] !== undefined) {\n",
       "      toinsert[toinsert.length - 1].firstChild.textContent = output.data[JS_MIME_TYPE];\n",
       "      // store reference to embed id on output_area\n",
       "      output_area._bokeh_element_id = output.metadata[EXEC_MIME_TYPE][\"id\"];\n",
       "    }\n",
       "    if (output.metadata[EXEC_MIME_TYPE][\"server_id\"] !== undefined) {\n",
       "      var bk_div = document.createElement(\"div\");\n",
       "      bk_div.innerHTML = output.data[HTML_MIME_TYPE];\n",
       "      var script_attrs = bk_div.children[0].attributes;\n",
       "      for (var i = 0; i < script_attrs.length; i++) {\n",
       "        toinsert[toinsert.length - 1].firstChild.setAttribute(script_attrs[i].name, script_attrs[i].value);\n",
       "        toinsert[toinsert.length - 1].firstChild.textContent = bk_div.children[0].textContent\n",
       "      }\n",
       "      // store reference to server id on output_area\n",
       "      output_area._bokeh_server_id = output.metadata[EXEC_MIME_TYPE][\"server_id\"];\n",
       "    }\n",
       "  }\n",
       "\n",
       "  function register_renderer(events, OutputArea) {\n",
       "\n",
       "    function append_mime(data, metadata, element) {\n",
       "      // create a DOM node to render to\n",
       "      var toinsert = this.create_output_subarea(\n",
       "        metadata,\n",
       "        CLASS_NAME,\n",
       "        EXEC_MIME_TYPE\n",
       "      );\n",
       "      this.keyboard_manager.register_events(toinsert);\n",
       "      // Render to node\n",
       "      var props = {data: data, metadata: metadata[EXEC_MIME_TYPE]};\n",
       "      render(props, toinsert[toinsert.length - 1]);\n",
       "      element.append(toinsert);\n",
       "      return toinsert\n",
       "    }\n",
       "\n",
       "    /* Handle when an output is cleared or removed */\n",
       "    events.on('clear_output.CodeCell', handleClearOutput);\n",
       "    events.on('delete.Cell', handleClearOutput);\n",
       "\n",
       "    /* Handle when a new output is added */\n",
       "    events.on('output_added.OutputArea', handleAddOutput);\n",
       "\n",
       "    /**\n",
       "     * Register the mime type and append_mime function with output_area\n",
       "     */\n",
       "    OutputArea.prototype.register_mime_type(EXEC_MIME_TYPE, append_mime, {\n",
       "      /* Is output safe? */\n",
       "      safe: true,\n",
       "      /* Index of renderer in `output_area.display_order` */\n",
       "      index: 0\n",
       "    });\n",
       "  }\n",
       "\n",
       "  // register the mime type if in Jupyter Notebook environment and previously unregistered\n",
       "  if (root.Jupyter !== undefined) {\n",
       "    var events = require('base/js/events');\n",
       "    var OutputArea = require('notebook/js/outputarea').OutputArea;\n",
       "\n",
       "    if (OutputArea.prototype.mime_types().indexOf(EXEC_MIME_TYPE) == -1) {\n",
       "      register_renderer(events, OutputArea);\n",
       "    }\n",
       "  }\n",
       "\n",
       "  \n",
       "  if (typeof (root._bokeh_timeout) === \"undefined\" || force === true) {\n",
       "    root._bokeh_timeout = Date.now() + 5000;\n",
       "    root._bokeh_failed_load = false;\n",
       "  }\n",
       "\n",
       "  var NB_LOAD_WARNING = {'data': {'text/html':\n",
       "     \"<div style='background-color: #fdd'>\\n\"+\n",
       "     \"<p>\\n\"+\n",
       "     \"BokehJS does not appear to have successfully loaded. If loading BokehJS from CDN, this \\n\"+\n",
       "     \"may be due to a slow or bad network connection. Possible fixes:\\n\"+\n",
       "     \"</p>\\n\"+\n",
       "     \"<ul>\\n\"+\n",
       "     \"<li>re-rerun `output_notebook()` to attempt to load from CDN again, or</li>\\n\"+\n",
       "     \"<li>use INLINE resources instead, as so:</li>\\n\"+\n",
       "     \"</ul>\\n\"+\n",
       "     \"<code>\\n\"+\n",
       "     \"from bokeh.resources import INLINE\\n\"+\n",
       "     \"output_notebook(resources=INLINE)\\n\"+\n",
       "     \"</code>\\n\"+\n",
       "     \"</div>\"}};\n",
       "\n",
       "  function display_loaded() {\n",
       "    var el = document.getElementById(\"1001\");\n",
       "    if (el != null) {\n",
       "      el.textContent = \"BokehJS is loading...\";\n",
       "    }\n",
       "    if (root.Bokeh !== undefined) {\n",
       "      if (el != null) {\n",
       "        el.textContent = \"BokehJS \" + root.Bokeh.version + \" successfully loaded.\";\n",
       "      }\n",
       "    } else if (Date.now() < root._bokeh_timeout) {\n",
       "      setTimeout(display_loaded, 100)\n",
       "    }\n",
       "  }\n",
       "\n",
       "\n",
       "  function run_callbacks() {\n",
       "    try {\n",
       "      root._bokeh_onload_callbacks.forEach(function(callback) {\n",
       "        if (callback != null)\n",
       "          callback();\n",
       "      });\n",
       "    } finally {\n",
       "      delete root._bokeh_onload_callbacks\n",
       "    }\n",
       "    console.debug(\"Bokeh: all callbacks have finished\");\n",
       "  }\n",
       "\n",
       "  function load_libs(css_urls, js_urls, callback) {\n",
       "    if (css_urls == null) css_urls = [];\n",
       "    if (js_urls == null) js_urls = [];\n",
       "\n",
       "    root._bokeh_onload_callbacks.push(callback);\n",
       "    if (root._bokeh_is_loading > 0) {\n",
       "      console.debug(\"Bokeh: BokehJS is being loaded, scheduling callback at\", now());\n",
       "      return null;\n",
       "    }\n",
       "    if (js_urls == null || js_urls.length === 0) {\n",
       "      run_callbacks();\n",
       "      return null;\n",
       "    }\n",
       "    console.debug(\"Bokeh: BokehJS not loaded, scheduling load and callback at\", now());\n",
       "    root._bokeh_is_loading = css_urls.length + js_urls.length;\n",
       "\n",
       "    function on_load() {\n",
       "      root._bokeh_is_loading--;\n",
       "      if (root._bokeh_is_loading === 0) {\n",
       "        console.debug(\"Bokeh: all BokehJS libraries/stylesheets loaded\");\n",
       "        run_callbacks()\n",
       "      }\n",
       "    }\n",
       "\n",
       "    function on_error() {\n",
       "      console.error(\"failed to load \" + url);\n",
       "    }\n",
       "\n",
       "    for (var i = 0; i < css_urls.length; i++) {\n",
       "      var url = css_urls[i];\n",
       "      const element = document.createElement(\"link\");\n",
       "      element.onload = on_load;\n",
       "      element.onerror = on_error;\n",
       "      element.rel = \"stylesheet\";\n",
       "      element.type = \"text/css\";\n",
       "      element.href = url;\n",
       "      console.debug(\"Bokeh: injecting link tag for BokehJS stylesheet: \", url);\n",
       "      document.body.appendChild(element);\n",
       "    }\n",
       "\n",
       "    const hashes = {\"https://cdn.bokeh.org/bokeh/release/bokeh-2.1.1.min.js\": \"kLr4fYcqcSpbuI95brIH3vnnYCquzzSxHPU6XGQCIkQRGJwhg0StNbj1eegrHs12\", \"https://cdn.bokeh.org/bokeh/release/bokeh-widgets-2.1.1.min.js\": \"xIGPmVtaOm+z0BqfSOMn4lOR6ciex448GIKG4eE61LsAvmGj48XcMQZtKcE/UXZe\", \"https://cdn.bokeh.org/bokeh/release/bokeh-tables-2.1.1.min.js\": \"Dc9u1wF/0zApGIWoBbH77iWEHtdmkuYWG839Uzmv8y8yBLXebjO9ZnERsde5Ln/P\", \"https://cdn.bokeh.org/bokeh/release/bokeh-gl-2.1.1.min.js\": \"cT9JaBz7GiRXdENrJLZNSC6eMNF3nh3fa5fTF51Svp+ukxPdwcU5kGXGPBgDCa2j\"};\n",
       "\n",
       "    for (var i = 0; i < js_urls.length; i++) {\n",
       "      var url = js_urls[i];\n",
       "      var element = document.createElement('script');\n",
       "      element.onload = on_load;\n",
       "      element.onerror = on_error;\n",
       "      element.async = false;\n",
       "      element.src = url;\n",
       "      if (url in hashes) {\n",
       "        element.crossOrigin = \"anonymous\";\n",
       "        element.integrity = \"sha384-\" + hashes[url];\n",
       "      }\n",
       "      console.debug(\"Bokeh: injecting script tag for BokehJS library: \", url);\n",
       "      document.head.appendChild(element);\n",
       "    }\n",
       "  };\n",
       "\n",
       "  function inject_raw_css(css) {\n",
       "    const element = document.createElement(\"style\");\n",
       "    element.appendChild(document.createTextNode(css));\n",
       "    document.body.appendChild(element);\n",
       "  }\n",
       "\n",
       "  \n",
       "  var js_urls = [\"https://cdn.bokeh.org/bokeh/release/bokeh-2.1.1.min.js\", \"https://cdn.bokeh.org/bokeh/release/bokeh-widgets-2.1.1.min.js\", \"https://cdn.bokeh.org/bokeh/release/bokeh-tables-2.1.1.min.js\", \"https://cdn.bokeh.org/bokeh/release/bokeh-gl-2.1.1.min.js\"];\n",
       "  var css_urls = [];\n",
       "  \n",
       "\n",
       "  var inline_js = [\n",
       "    function(Bokeh) {\n",
       "      Bokeh.set_log_level(\"info\");\n",
       "    },\n",
       "    function(Bokeh) {\n",
       "    \n",
       "    \n",
       "    }\n",
       "  ];\n",
       "\n",
       "  function run_inline_js() {\n",
       "    \n",
       "    if (root.Bokeh !== undefined || force === true) {\n",
       "      \n",
       "    for (var i = 0; i < inline_js.length; i++) {\n",
       "      inline_js[i].call(root, root.Bokeh);\n",
       "    }\n",
       "    if (force === true) {\n",
       "        display_loaded();\n",
       "      }} else if (Date.now() < root._bokeh_timeout) {\n",
       "      setTimeout(run_inline_js, 100);\n",
       "    } else if (!root._bokeh_failed_load) {\n",
       "      console.log(\"Bokeh: BokehJS failed to load within specified timeout.\");\n",
       "      root._bokeh_failed_load = true;\n",
       "    } else if (force !== true) {\n",
       "      var cell = $(document.getElementById(\"1001\")).parents('.cell').data().cell;\n",
       "      cell.output_area.append_execute_result(NB_LOAD_WARNING)\n",
       "    }\n",
       "\n",
       "  }\n",
       "\n",
       "  if (root._bokeh_is_loading === 0) {\n",
       "    console.debug(\"Bokeh: BokehJS loaded, going straight to plotting\");\n",
       "    run_inline_js();\n",
       "  } else {\n",
       "    load_libs(css_urls, js_urls, function() {\n",
       "      console.debug(\"Bokeh: BokehJS plotting callback run at\", now());\n",
       "      run_inline_js();\n",
       "    });\n",
       "  }\n",
       "}(window));"
      ],
      "application/vnd.bokehjs_load.v0+json": "\n(function(root) {\n  function now() {\n    return new Date();\n  }\n\n  var force = true;\n\n  if (typeof root._bokeh_onload_callbacks === \"undefined\" || force === true) {\n    root._bokeh_onload_callbacks = [];\n    root._bokeh_is_loading = undefined;\n  }\n\n  \n\n  \n  if (typeof (root._bokeh_timeout) === \"undefined\" || force === true) {\n    root._bokeh_timeout = Date.now() + 5000;\n    root._bokeh_failed_load = false;\n  }\n\n  var NB_LOAD_WARNING = {'data': {'text/html':\n     \"<div style='background-color: #fdd'>\\n\"+\n     \"<p>\\n\"+\n     \"BokehJS does not appear to have successfully loaded. If loading BokehJS from CDN, this \\n\"+\n     \"may be due to a slow or bad network connection. Possible fixes:\\n\"+\n     \"</p>\\n\"+\n     \"<ul>\\n\"+\n     \"<li>re-rerun `output_notebook()` to attempt to load from CDN again, or</li>\\n\"+\n     \"<li>use INLINE resources instead, as so:</li>\\n\"+\n     \"</ul>\\n\"+\n     \"<code>\\n\"+\n     \"from bokeh.resources import INLINE\\n\"+\n     \"output_notebook(resources=INLINE)\\n\"+\n     \"</code>\\n\"+\n     \"</div>\"}};\n\n  function display_loaded() {\n    var el = document.getElementById(\"1001\");\n    if (el != null) {\n      el.textContent = \"BokehJS is loading...\";\n    }\n    if (root.Bokeh !== undefined) {\n      if (el != null) {\n        el.textContent = \"BokehJS \" + root.Bokeh.version + \" successfully loaded.\";\n      }\n    } else if (Date.now() < root._bokeh_timeout) {\n      setTimeout(display_loaded, 100)\n    }\n  }\n\n\n  function run_callbacks() {\n    try {\n      root._bokeh_onload_callbacks.forEach(function(callback) {\n        if (callback != null)\n          callback();\n      });\n    } finally {\n      delete root._bokeh_onload_callbacks\n    }\n    console.debug(\"Bokeh: all callbacks have finished\");\n  }\n\n  function load_libs(css_urls, js_urls, callback) {\n    if (css_urls == null) css_urls = [];\n    if (js_urls == null) js_urls = [];\n\n    root._bokeh_onload_callbacks.push(callback);\n    if (root._bokeh_is_loading > 0) {\n      console.debug(\"Bokeh: BokehJS is being loaded, scheduling callback at\", now());\n      return null;\n    }\n    if (js_urls == null || js_urls.length === 0) {\n      run_callbacks();\n      return null;\n    }\n    console.debug(\"Bokeh: BokehJS not loaded, scheduling load and callback at\", now());\n    root._bokeh_is_loading = css_urls.length + js_urls.length;\n\n    function on_load() {\n      root._bokeh_is_loading--;\n      if (root._bokeh_is_loading === 0) {\n        console.debug(\"Bokeh: all BokehJS libraries/stylesheets loaded\");\n        run_callbacks()\n      }\n    }\n\n    function on_error() {\n      console.error(\"failed to load \" + url);\n    }\n\n    for (var i = 0; i < css_urls.length; i++) {\n      var url = css_urls[i];\n      const element = document.createElement(\"link\");\n      element.onload = on_load;\n      element.onerror = on_error;\n      element.rel = \"stylesheet\";\n      element.type = \"text/css\";\n      element.href = url;\n      console.debug(\"Bokeh: injecting link tag for BokehJS stylesheet: \", url);\n      document.body.appendChild(element);\n    }\n\n    const hashes = {\"https://cdn.bokeh.org/bokeh/release/bokeh-2.1.1.min.js\": \"kLr4fYcqcSpbuI95brIH3vnnYCquzzSxHPU6XGQCIkQRGJwhg0StNbj1eegrHs12\", \"https://cdn.bokeh.org/bokeh/release/bokeh-widgets-2.1.1.min.js\": \"xIGPmVtaOm+z0BqfSOMn4lOR6ciex448GIKG4eE61LsAvmGj48XcMQZtKcE/UXZe\", \"https://cdn.bokeh.org/bokeh/release/bokeh-tables-2.1.1.min.js\": \"Dc9u1wF/0zApGIWoBbH77iWEHtdmkuYWG839Uzmv8y8yBLXebjO9ZnERsde5Ln/P\", \"https://cdn.bokeh.org/bokeh/release/bokeh-gl-2.1.1.min.js\": \"cT9JaBz7GiRXdENrJLZNSC6eMNF3nh3fa5fTF51Svp+ukxPdwcU5kGXGPBgDCa2j\"};\n\n    for (var i = 0; i < js_urls.length; i++) {\n      var url = js_urls[i];\n      var element = document.createElement('script');\n      element.onload = on_load;\n      element.onerror = on_error;\n      element.async = false;\n      element.src = url;\n      if (url in hashes) {\n        element.crossOrigin = \"anonymous\";\n        element.integrity = \"sha384-\" + hashes[url];\n      }\n      console.debug(\"Bokeh: injecting script tag for BokehJS library: \", url);\n      document.head.appendChild(element);\n    }\n  };\n\n  function inject_raw_css(css) {\n    const element = document.createElement(\"style\");\n    element.appendChild(document.createTextNode(css));\n    document.body.appendChild(element);\n  }\n\n  \n  var js_urls = [\"https://cdn.bokeh.org/bokeh/release/bokeh-2.1.1.min.js\", \"https://cdn.bokeh.org/bokeh/release/bokeh-widgets-2.1.1.min.js\", \"https://cdn.bokeh.org/bokeh/release/bokeh-tables-2.1.1.min.js\", \"https://cdn.bokeh.org/bokeh/release/bokeh-gl-2.1.1.min.js\"];\n  var css_urls = [];\n  \n\n  var inline_js = [\n    function(Bokeh) {\n      Bokeh.set_log_level(\"info\");\n    },\n    function(Bokeh) {\n    \n    \n    }\n  ];\n\n  function run_inline_js() {\n    \n    if (root.Bokeh !== undefined || force === true) {\n      \n    for (var i = 0; i < inline_js.length; i++) {\n      inline_js[i].call(root, root.Bokeh);\n    }\n    if (force === true) {\n        display_loaded();\n      }} else if (Date.now() < root._bokeh_timeout) {\n      setTimeout(run_inline_js, 100);\n    } else if (!root._bokeh_failed_load) {\n      console.log(\"Bokeh: BokehJS failed to load within specified timeout.\");\n      root._bokeh_failed_load = true;\n    } else if (force !== true) {\n      var cell = $(document.getElementById(\"1001\")).parents('.cell').data().cell;\n      cell.output_area.append_execute_result(NB_LOAD_WARNING)\n    }\n\n  }\n\n  if (root._bokeh_is_loading === 0) {\n    console.debug(\"Bokeh: BokehJS loaded, going straight to plotting\");\n    run_inline_js();\n  } else {\n    load_libs(css_urls, js_urls, function() {\n      console.debug(\"Bokeh: BokehJS plotting callback run at\", now());\n      run_inline_js();\n    });\n  }\n}(window));"
     },
     "metadata": {},
     "output_type": "display_data"
    }
   ],
   "source": [
    "%matplotlib inline\n",
    "\n",
    "import matplotlib.pyplot as plt\n",
    "import numpy as np\n",
    "import pandas as pd\n",
    "import re\n",
    "import rpy2.rinterface\n",
    "import time\n",
    "import tqdm\n",
    "import seaborn as sns\n",
    "\n",
    "from bokeh.plotting import figure, show \n",
    "from bokeh.models import ColumnDataSource\n",
    "from bokeh.io import output_notebook\n",
    "from collections import defaultdict\n",
    "from sklearn.manifold import TSNE\n",
    "from typing import List\n",
    "\n",
    "sns.set(style=\"whitegrid\")\n",
    "output_notebook()"
   ]
  },
  {
   "cell_type": "markdown",
   "metadata": {},
   "source": [
    "We'll load the `rpy2` IPython extension so that we can easily run R commands interspersed with our Python commands and pass objects back and forth. For more information, check out [this blog post](https://www.linkedin.com/pulse/interfacing-r-from-python-3-jupyter-notebook-jared-stufft/)."
   ]
  },
  {
   "cell_type": "code",
   "execution_count": 3,
   "metadata": {},
   "outputs": [],
   "source": [
    "%load_ext rpy2.ipython"
   ]
  },
  {
   "cell_type": "markdown",
   "metadata": {},
   "source": [
    "Last, I've defined a number of utility functions that may or may not be used throughout the analysis. Feel free to browse through them or use them in your analysis if you find them helpful."
   ]
  },
  {
   "cell_type": "code",
   "execution_count": 4,
   "metadata": {},
   "outputs": [],
   "source": [
    "def tpm(df: pd.DataFrame, gene_length_col: str = \"Gene Length\", remove_gene_length_col: bool = True) -> pd.DataFrame:\n",
    "    \"\"\"Transforms a counts matrix containing genes (rows) and samples (cols) to\n",
    "    Transcripts Per Kilobase Million. This metric is suitable for comparing across samples.\n",
    "    Gene lengths should be expressed in single bases (not kilobases).\n",
    "    \n",
    "    Instructions credit: https://rna-seqblog.com/rpkm-fpkm-and-tpm-clearly-explained/\n",
    "    \n",
    "    Arguments:\n",
    "        df(pd.DataFrame): counts matrix with genes as rows and samples as columns.\n",
    "        gene_length_col(str): column containing the gene lengths (must be the same as num rows in `df`).\n",
    "        remove_gene_length_col(bool): remove the gene length column once we are finished.\n",
    "        \n",
    "    Returns:\n",
    "        (pd.DataFrame): a pandas dataframe containing the TPM transformed counts.\n",
    "    \"\"\"\n",
    "    \n",
    "    gene_lengths = df[gene_length_col]\n",
    "    # 1. Divide the read counts by the length of each gene in kilobases. This gives you reads per kilobase (RPK).\n",
    "    rpk = df.div(df[gene_length_col] / 1e3, axis=0)\n",
    "    # 2. Count up all the RPK values in a sample and divide this number by 1,000,000. This is your “per million” scaling factor.\n",
    "    sf = rpk.sum(axis=0) / 1e6\n",
    "    # 3. Divide the RPK values by the “per million” scaling factor. This gives you TPM.\n",
    "    result = rpk / sf\n",
    "    \n",
    "    if remove_gene_length_col:\n",
    "        del result[gene_length_col]\n",
    "        \n",
    "    return result\n",
    "\n",
    "\n",
    "def parse_gtf(filename: str, feature_types: List[str] = None) -> pd.DataFrame:\n",
    "    \"\"\"A utility method to load a GENCODE GTF into a `pandas.DataFrame`.\n",
    "    \n",
    "    Arguments:\n",
    "        filename(str): filename to be loaded as a string.\n",
    "        feature_types(List[str], optional): if provided, ignores any entry where the `feature` column is not\n",
    "                                            in the provided List. Example: ['gene', 'exon'].\n",
    "                                            \n",
    "    Returns:\n",
    "        (pd.DataFrame): the gene model as a pandas dataframe.\n",
    "    \"\"\"\n",
    "    \n",
    "    results = []\n",
    "    _handle = open(filename, \"r\")\n",
    "    group_regexes = [re.compile(pattern) for pattern in [r\"(\\S+) \\\"(\\S+)\\\"\", r\"(\\S+)=(\\S+)\"]]\n",
    "\n",
    "    for line in tqdm.tqdm(_handle.readlines(), \"Reading GTF file\"):\n",
    "        line = line.strip()\n",
    "        \n",
    "        if not line:\n",
    "            break\n",
    "\n",
    "        if line.startswith(\"#\"):\n",
    "            continue\n",
    "\n",
    "        [seqname, source, feature, start, end, score, strand, frame, group] = line.split(\"\\t\")\n",
    "\n",
    "        if feature_types and feature not in feature_types:\n",
    "            continue\n",
    "\n",
    "        result = {\n",
    "            \"seqname\": seqname,\n",
    "            \"source\": source,\n",
    "            \"feature\": feature,\n",
    "            \"start\": int(start),\n",
    "            \"end\": int(end),\n",
    "            \"score\": score,\n",
    "            \"strand\": strand,\n",
    "            \"group\": group\n",
    "        }\n",
    "\n",
    "        for group_attr in [s.strip() for s in group.split(\";\")]:\n",
    "            if not group_attr:\n",
    "                continue\n",
    "\n",
    "            for regex in group_regexes:\n",
    "                match = regex.match(group_attr)\n",
    "                if match:\n",
    "                    key, value = match.group(1, 2)\n",
    "                    result[\"group_\" + key] = value.strip()\n",
    "                    break\n",
    "        \n",
    "        results.append(result)\n",
    "    \n",
    "    return pd.DataFrame(results)"
   ]
  },
  {
   "cell_type": "markdown",
   "metadata": {},
   "source": [
    "## Loading the Data"
   ]
  },
  {
   "cell_type": "markdown",
   "metadata": {},
   "source": [
    "You can read in the counts and metadata file and observe some general characteristics about them."
   ]
  },
  {
   "cell_type": "code",
   "execution_count": 5,
   "metadata": {
    "scrolled": true
   },
   "outputs": [
    {
     "name": "stdout",
     "output_type": "stream",
     "text": [
      "Counts matrix shape: (59050, 1576).\n",
      "Metadata matrix shape: (1576, 19).\n"
     ]
    }
   ],
   "source": [
    "counts = pd.read_csv(\"./counts-matrix.tsv\", sep=\"\\t\")\n",
    "metadata = pd.read_csv(\"./metadata-matrix.tsv\", sep=\"\\t\")\n",
    "\n",
    "# remove non-gene entries\n",
    "counts = counts[~counts['Gene Name'].str.startswith(\"__\")]\n",
    "\n",
    "# set indices\n",
    "counts.set_index('Gene Name', inplace=True)\n",
    "metadata.set_index('Sample ID', inplace=True)\n",
    "\n",
    "# print shapes\n",
    "print(f\"Counts matrix shape: {counts.shape}.\")\n",
    "print(f\"Metadata matrix shape: {metadata.shape}.\")"
   ]
  },
  {
   "cell_type": "markdown",
   "metadata": {},
   "source": [
    "Next, we'll prepare our `batch` column in the `metadata` array so that we can eventually join that to the `counts` column to get the known batch effects for each sample."
   ]
  },
  {
   "cell_type": "code",
   "execution_count": 6,
   "metadata": {},
   "outputs": [],
   "source": [
    "metadata['batch'] = metadata['attr_lab_strandedness'] + \"_\" \\\n",
    "                    + metadata['attr_tissue_preservative'] + \"_\" \\\n",
    "                    + metadata['attr_library_selection_protocol'] + \"_\" \\\n",
    "                    + metadata['attr_read_type']"
   ]
  },
  {
   "cell_type": "markdown",
   "metadata": {},
   "source": [
    "## Prepare the Gene Model"
   ]
  },
  {
   "cell_type": "markdown",
   "metadata": {},
   "source": [
    "Next, we'll need to download the exact gene model used in the [RNA-Seq v2 harmonization pipeline](https://stjudecloud.github.io/rfcs/0001-rnaseq-workflow-v2.0.0.html#reference-files). First, we'll download the gene model from the GENCODE website."
   ]
  },
  {
   "cell_type": "code",
   "execution_count": 7,
   "metadata": {},
   "outputs": [
    {
     "name": "stdout",
     "output_type": "stream",
     "text": [
      "Temporary directory: /var/folders/z9/7n3_5hks21s7d1bz5ppx2zqxx4ymd8/T/tmp.fA4ZJ8E0\n",
      "gencode.v31.annotation.gtf.gz: OK\n",
      "gencode.v31.annotation.gtf: OK\n"
     ]
    }
   ],
   "source": [
    "%%bash\n",
    "\n",
    "[[ -z $NOTEBOOK_TMP_DIR ]] && NOTEBOOK_TMP_DIR=`mktemp -d` || echo \"Reusing temporary directory from last time...\";\n",
    "echo \"Temporary directory: $NOTEBOOK_TMP_DIR\"\n",
    "cd $NOTEBOOK_TMP_DIR\n",
    "\n",
    "[[ -f \"gencode.v31.annotation.gtf.gz\" ]] && rm gencode.v31.annotation.gtf.gz \n",
    "[[ -f \"gencode.v31.annotation.gtf\" ]] && rm gencode.v31.annotation.gtf\n",
    "\n",
    "wget ftp://ftp.ebi.ac.uk/pub/databases/gencode/Gencode_human/release_31/gencode.v31.annotation.gtf.gz 2>/dev/null\n",
    "echo \"0aac86e8a6c9e5fa5afe2a286325da81  gencode.v31.annotation.gtf.gz\" > gencode.v31.annotation.gtf.gz.md5 \n",
    "md5sum -c gencode.v31.annotation.gtf.gz.md5\n",
    "# > gencode.v31.annotation.gtf.gz: OK\n",
    "\n",
    "gunzip gencode.v31.annotation.gtf.gz\n",
    "echo \"4e22351ae216e72aa57cd6d6011960f8  gencode.v31.annotation.gtf\" > gencode.v31.annotation.gtf.md5\n",
    "md5sum -c gencode.v31.annotation.gtf.md5\n",
    "# > gencode.v31.annotation.gtf: OK"
   ]
  },
  {
   "cell_type": "markdown",
   "metadata": {},
   "source": [
    "Next, we'll load the gene model into `gene_model`."
   ]
  },
  {
   "cell_type": "code",
   "execution_count": 8,
   "metadata": {},
   "outputs": [
    {
     "name": "stderr",
     "output_type": "stream",
     "text": [
      "Reading GTF file: 100%|██████████| 2881891/2881891 [00:29<00:00, 98817.87it/s] \n"
     ]
    }
   ],
   "source": [
    "gene_model = parse_gtf(\"gencode.v31.annotation.gtf\", feature_types=['gene', 'exon'])"
   ]
  },
  {
   "cell_type": "markdown",
   "metadata": {},
   "source": [
    "## Calculate Gene Lengths (Optional) "
   ]
  },
  {
   "cell_type": "markdown",
   "metadata": {},
   "source": [
    "If you're interested in using TPMs, the gene lengths will be needed as aggregated by the `gene_name` group attribute in the GTF (St. Jude Cloud counts by `gene_name`, not by transcript!). Below is an optional code block to run that computes the `gene_length` for each gene in the gene model. The algorithm is a simple implementation:\n",
    "\n",
    "- Examine every entry with `feature == \"gene\"` and create an array of 0's corresponding to the `gene_name` that is equal to the length (end-start) of that entry.\n",
    "- Examine all of the exons, and for each one, fill in the appropriate offset coordinates with 1's for the array corresponding to the `gene_name` for that entry.\n",
    "- Sum up all of the 1's for each array to get the gene length."
   ]
  },
  {
   "cell_type": "code",
   "execution_count": 9,
   "metadata": {},
   "outputs": [
    {
     "name": "stdout",
     "output_type": "stream",
     "text": [
      "  [*] Computing gene lengths...\n"
     ]
    },
    {
     "name": "stderr",
     "output_type": "stream",
     "text": [
      "Aggregating gene start and end positions: 100%|██████████| 60603/60603 [00:04<00:00, 13071.53it/s]\n",
      "Overlaying exonic regions: 100%|██████████| 1363843/1363843 [01:39<00:00, 13711.50it/s]\n"
     ]
    },
    {
     "name": "stdout",
     "output_type": "stream",
     "text": [
      "  [*] Producing summary dataframe...\n"
     ]
    },
    {
     "name": "stderr",
     "output_type": "stream",
     "text": [
      "Calculating gene lengths: 100%|██████████| 59050/59050 [00:12<00:00, 4698.01it/s]\n"
     ]
    },
    {
     "name": "stdout",
     "output_type": "stream",
     "text": [
      "Gene lengths shape: (59050, 3)\n",
      "CPU times: user 1min 49s, sys: 8.11 s, total: 1min 57s\n",
      "Wall time: 1min 58s\n"
     ]
    }
   ],
   "source": [
    "%%time\n",
    "\n",
    "print(\"  [*] Computing gene lengths...\")\n",
    "only_genes = gene_model[gene_model['feature'] == 'gene']\n",
    "only_exons = gene_model[gene_model['feature'] == 'exon']\n",
    "gene_start_offset = {}\n",
    "gene_end_offset = {}\n",
    "gene_exon_intersection = {}\n",
    "gene_total_exon_size = {}\n",
    "gene_length = {}\n",
    "\n",
    "for (index, value) in tqdm.tqdm(only_genes.iterrows(), \"Aggregating gene start and end positions\", only_genes.shape[0]):\n",
    "    gene_name = value['group_gene_name']\n",
    "    start = value['start']\n",
    "    end = value['end']\n",
    "    size = end - start\n",
    "    \n",
    "    if size <= 0:\n",
    "        raise RuntimeError(\"Size of gene is negative!\")\n",
    "        \n",
    "    gene_start_offset[gene_name] = start\n",
    "    gene_end_offset[gene_name] = end\n",
    "    gene_exon_intersection[gene_name] = np.zeros(size)\n",
    "    gene_total_exon_size[gene_name] = 0\n",
    "    gene_length[gene_name] = end - start\n",
    "    \n",
    "for (index, value) in tqdm.tqdm(only_exons.iterrows(), \"Overlaying exonic regions\", total=only_exons.shape[0]):\n",
    "    gene_name = value['group_gene_name']\n",
    "    offset = gene_start_offset[gene_name]\n",
    "    start = value['start'] - offset\n",
    "    end = value['end'] - offset\n",
    "    exon_length = end - start\n",
    "    gene_exon_intersection[gene_name][start:end] = 1\n",
    "    gene_total_exon_size[gene_name] += exon_length\n",
    "\n",
    "print(\"  [*] Producing summary dataframe...\")\n",
    "time.sleep(0.5) # output sometimes gets messed up here.\n",
    "results = []\n",
    "for (gene, exonic_intersection) in tqdm.tqdm(gene_exon_intersection.items(), \"Calculating gene lengths\", total=len(gene_exon_intersection)):\n",
    "    result = {\"Gene Name\": gene, \"Gene Length\": np.sum(exonic_intersection).astype(int)}\n",
    "    result['Pct_filled'] = result['Gene Length'] / gene_length[result['Gene Name']] * 100\n",
    "    result['Exonic_redundancy'] = (gene_total_exon_size[result['Gene Name']] / result['Gene Length']) * 100\n",
    "    results.append(result)\n",
    "    \n",
    "gene_lengths = pd.DataFrame(results)\n",
    "gene_lengths.set_index('Gene Name', inplace=True)\n",
    "print(f\"Gene lengths shape: {gene_lengths.shape}\")"
   ]
  },
  {
   "cell_type": "markdown",
   "metadata": {},
   "source": [
    "Just for curiosity's sake (and as a sanity check), let's see the breakdown of (i) how much of each gene is taken up by an exonic region and (ii) some idea of the duplication rate amongst exons described in the gene model."
   ]
  },
  {
   "cell_type": "code",
   "execution_count": 10,
   "metadata": {
    "scrolled": true
   },
   "outputs": [
    {
     "data": {
      "image/png": "[encoded data removed]",
      "text/plain": [
       "<Figure size 1152x288 with 1 Axes>"
      ]
     },
     "metadata": {},
     "output_type": "display_data"
    }
   ],
   "source": [
    "plt.figure(figsize=(16,4))\n",
    "sns.distplot(gene_lengths['Pct_filled'], kde=False)\n",
    "plt.title(\"Percentage of gene taken up by exon\")\n",
    "plt.xlabel('Percentage (%)')\n",
    "plt.ylabel('Number of genes')\n",
    "plt.show()"
   ]
  },
  {
   "cell_type": "code",
   "execution_count": 11,
   "metadata": {},
   "outputs": [
    {
     "data": {
      "image/png": "[encoded data removed]",
      "text/plain": [
       "<Figure size 1152x288 with 1 Axes>"
      ]
     },
     "metadata": {},
     "output_type": "display_data"
    }
   ],
   "source": [
    "plt.figure(figsize=(16,4))\n",
    "\n",
    "# filter the tail ends as it makes the graph very hard to read with the outliers.\n",
    "# you may disable this if you wish to see the true distribution.\n",
    "lower_bound = gene_lengths['Exonic_redundancy'] >= gene_lengths['Exonic_redundancy'].quantile(0.01)\n",
    "upper_bound = gene_lengths['Exonic_redundancy'] <= gene_lengths['Exonic_redundancy'].quantile(0.99)\n",
    "\n",
    "sns.distplot(gene_lengths[lower_bound & upper_bound].sort_values(by='Exonic_redundancy', ascending=False)['Exonic_redundancy'], kde=False)\n",
    "plt.title(\"Percentage of redundancy in exonic regions\")\n",
    "plt.xlabel('Percentage (%)')\n",
    "plt.ylabel('Number of genes')\n",
    "plt.show()"
   ]
  },
  {
   "cell_type": "markdown",
   "metadata": {},
   "source": [
    "## Filter Counts"
   ]
  },
  {
   "cell_type": "markdown",
   "metadata": {},
   "source": [
    "Now that we have loaded all of the data, we can start performing all of our analysis on the counts data. Before we start transforming the data, there are several filters we're going to want to apply to achieve good results, including:\n",
    "\n",
    "1. Removing any genes which exhibit low expression (as defined by all samples have <10 reads for the gene).\n",
    "2. Filtering non protein-coding genes from the gene model.\n",
    "3. Removing genes which are blacklisted (as defined by the blacklist we used for the St. Jude Cloud expression landscape analysis in the paper).\n",
    "\n",
    "Below, we enact these filters."
   ]
  },
  {
   "cell_type": "code",
   "execution_count": 14,
   "metadata": {},
   "outputs": [
    {
     "name": "stdout",
     "output_type": "stream",
     "text": [
      "[Low Expression Filter] Counts matrix shape changed from (56021, 1576) to (56021, 1576) (0 samples removed).\n"
     ]
    }
   ],
   "source": [
    "shape_before = counts.shape\n",
    "counts = counts[~counts.apply(lambda row: np.all(np.abs(row) < 10), axis=1)]\n",
    "shape_after = counts.shape\n",
    "print(f\"[Low Expression Filter] Counts matrix shape changed from {shape_before} to {shape_after} ({shape_before[0] - shape_after[0]} genes removed).\")"
   ]
  },
  {
   "cell_type": "code",
   "execution_count": 17,
   "metadata": {},
   "outputs": [
    {
     "name": "stdout",
     "output_type": "stream",
     "text": [
      "[Protein Coding Gene Filter] Found 19942 protein coding genes in gene model.\n",
      "[Protein Coding Gene Filter] Counts matrix shape changed from (19448, 1576) to (19448, 1576) (0 genes removed).\n"
     ]
    }
   ],
   "source": [
    "protein_coding_genes = gene_model[(gene_model['feature'] == \"gene\") & (gene_model['group_gene_type'] == \"protein_coding\")][\"group_gene_name\"].unique()\n",
    "print(f\"[Protein Coding Gene Filter] Found {protein_coding_genes.size} protein coding genes in gene model.\")\n",
    "\n",
    "shape_before = counts.shape\n",
    "counts = counts[counts.index.isin(protein_coding_genes)]\n",
    "shape_after = counts.shape\n",
    "print(f\"[Protein Coding Gene Filter] Counts matrix shape changed from {shape_before} to {shape_after} ({shape_before[0] - shape_after[0]} genes removed).\")"
   ]
  },
  {
   "cell_type": "code",
   "execution_count": 18,
   "metadata": {},
   "outputs": [
    {
     "name": "stdout",
     "output_type": "stream",
     "text": [
      "[Gene Blacklist Filter] Removing 223 blacklist genes.\n",
      "[Gene Blacklist Filter] Counts matrix shape changed from (19448, 1576) to (19228, 1576) (220 genes removed).\n"
     ]
    }
   ],
   "source": [
    "# blacklist is from the St. Jude Cloud expression landscape analysis included in the St. Jude Cloud paper.\n",
    "blacklist_regex = '|'.join([\"ENSG00000174358\", \"ENSG00000162722\", \"ENSG00000238243\", \"ENSG00000165949\", \"ENSG00000180537\", \"ENSG00000076864\", \"ENSG00000141469\", \"ENSG00000162366\", \"ENSG00000047597\", \"ENSG00000137198\",\n",
    "\"ENSG00000158856\", \"ENSG00000184792\", \"ENSG00000145335\", \"ENSG00000213934\", \"ENSG00000196565\", \"ENSG00000188536\", \"ENSG00000244734\", \"ENSG00000206172\", \"ENSG00000133069\", \"ENSG00000143416\",\n",
    "\"ENSG00000206177\", \"ENSG00000004939\", \"ENSG00000158578\", \"ENSG00000223609\", \"ENSG00000204010\", \"ENSG00000167768\", \"ENSG00000198046\", \"ENSG00000136929\", \"ENSG00000152078\", \"ENSG00000204613\",\n",
    "\"ENSG00000112077\", \"ENSG00000198336\", \"ENSG00000170180\", \"ENSG00000169877\", \"ENSG00000133742\", \"ENSG00000105610\", \"ENSG00000250361\", \"ENSG00000240583\", \"ENSG00000137460\", \"ENSG00000087085\",\n",
    "\"ENSG00000196188\", \"ENSG00000188582\", \"ENSG00000213088\", \"ENSG00000135047\", \"ENSG00000165702\", \"ENSG00000198959\", \"ENSG00000116675\", \"ENSG00000055118\", \"ENSG00000070182\", \"ENSG00000188672\",\n",
    "\"ENSG00000133488\", \"ENSG00000197993\", \"ENSG00000104267\", \"ENSG00000135218\", \"ENSG00000189056\", \"ENSG00000090013\", \"ENSG00000178752\", \"ENSG00000169429\", \"ENSG00000110203\", \"ENSG00000242550\",\n",
    "\"ENSG00000121552\", \"ENSG00000158825\", \"ENSG00000163221\", \"ENSG00000143546\", \"ENSG00000163220\", \"ENSG00000115828\", \"ENSG00000121316\", \"ENSG00000111052\", \"ENSG00000162747\", \"ENSG00000163563\",\n",
    "\"ENSG00000171051\", \"ENSG00000171049\", \"ENSG00000163421\", \"ENSG00000103569\", \"ENSG00000186431\", \"ENSG00000126262\", \"ENSG00000159339\", \"ENSG00000189068\", \"ENSG00000169385\", \"ENSG00000169397\",\n",
    "\"ENSG00000149516\", \"ENSG00000105205\", \"ENSG00000100448\", \"ENSG00000196415\", \"ENSG00000197561\", \"ENSG00000164099\", \"ENSG00000182217\", \"ENSG00000183941\", \"ENSG00000203852\", \"ENSG00000203811\",\n",
    "\"ENSG00000124610\", \"ENSG00000158406\", \"ENSG00000197837\", \"ENSG00000184348\", \"ENSG00000196331\", \"ENSG00000233822\", \"ENSG00000198366\", \"ENSG00000180596\", \"ENSG00000158373\", \"ENSG00000197914\",\n",
    "\"ENSG00000197153\", \"ENSG00000124635\", \"ENSG00000196787\", \"ENSG00000196747\", \"ENSG00000203813\", \"ENSG00000256316\", \"ENSG00000256018\", \"ENSG00000196374\", \"ENSG00000196176\", \"ENSG00000168242\",\n",
    "\"ENSG00000182572\", \"ENSG00000184357\", \"ENSG00000184825\", \"ENSG00000184270\", \"ENSG00000184260\", \"ENSG00000197238\", \"ENSG00000137259\", \"ENSG00000182611\", \"ENSG00000196532\", \"ENSG00000196226\",\n",
    "\"ENSG00000185130\", \"ENSG00000198374\", \"ENSG00000188987\", \"ENSG00000197697\", \"ENSG00000198327\", \"ENSG00000198558\", \"ENSG00000197061\", \"ENSG00000124529\", \"ENSG00000203814\", \"ENSG00000183598\",\n",
    "\"ENSG00000168298\", \"ENSG00000124575\", \"ENSG00000197846\", \"ENSG00000187990\", \"ENSG00000168274\", \"ENSG00000197459\", \"ENSG00000198518\", \"ENSG00000197409\", \"ENSG00000187837\", \"ENSG00000203812\",\n",
    "\"ENSG00000183558\", \"ENSG00000179869\", \"ENSG00000102837\", \"ENSG00000239839\", \"ENSG00000164821\", \"ENSG00000164047\", \"ENSG00000096006\", \"ENSG00000157551\", \"ENSG00000127954\", \"ENSG00000166527\",\n",
    "\"ENSG00000257335\", \"ENSG00000122641\", \"ENSG00000173391\", \"ENSG00000186529\", \"ENSG00000138772\", \"ENSG00000133048\", \"ENSG00000101425\", \"ENSG00000124469\", \"ENSG00000148346\", \"ENSG00000118113\",\n",
    "\"ENSG00000012223\", \"ENSG00000257017\", \"ENSG00000134827\", \"ENSG00000204936\", \"ENSG00000100985\", \"ENSG00000172232\", \"ENSG00000073756\", \"ENSG00000123689\", \"ENSG00000142676\", \"ENSG00000142937\",\n",
    "\"ENSG00000177954\", \"ENSG00000171863\", \"ENSG00000071082\", \"ENSG00000197756\", \"ENSG00000144713\", \"ENSG00000174748\", \"ENSG00000188846\", \"ENSG00000162244\", \"ENSG00000114391\", \"ENSG00000163584\",\n",
    "\"ENSG00000163923\", \"ENSG00000182899\", \"ENSG00000163682\", \"ENSG00000109475\", \"ENSG00000145425\", \"ENSG00000145592\", \"ENSG00000186468\", \"ENSG00000164587\", \"ENSG00000037241\", \"ENSG00000231500\",\n",
    "\"ENSG00000124614\", \"ENSG00000198755\", \"ENSG00000146223\", \"ENSG00000112306\", \"ENSG00000198034\", \"ENSG00000241343\", \"ENSG00000198918\", \"ENSG00000008988\", \"ENSG00000147604\", \"ENSG00000156482\",\n",
    "\"ENSG00000161016\", \"ENSG00000137154\", \"ENSG00000136942\", \"ENSG00000197958\", \"ENSG00000148303\", \"ENSG00000138326\", \"ENSG00000177600\", \"ENSG00000166441\", \"ENSG00000110700\", \"ENSG00000149273\",\n",
    "\"ENSG00000118181\", \"ENSG00000197728\", \"ENSG00000229117\", \"ENSG00000089009\", \"ENSG00000089157\", \"ENSG00000122026\", \"ENSG00000165496\", \"ENSG00000213741\", \"ENSG00000165502\", \"ENSG00000185088\",\n",
    "\"ENSG00000174444\", \"ENSG00000137818\", \"ENSG00000184779\", \"ENSG00000182774\", \"ENSG00000140986\", \"ENSG00000140988\", \"ENSG00000134419\", \"ENSG00000167526\", \"ENSG00000161970\", \"ENSG00000198242\",\n",
    "\"ENSG00000125691\", \"ENSG00000108298\", \"ENSG00000131469\", \"ENSG00000172809\", \"ENSG00000265681\", \"ENSG00000171858\", \"ENSG00000115268\", \"ENSG00000130255\", \"ENSG00000233927\", \"ENSG00000105640\",\n",
    "\"ENSG00000105193\", \"ENSG00000105372\", \"ENSG00000063177\", \"ENSG00000142541\", \"ENSG00000142534\", \"ENSG00000170889\", \"ENSG00000108107\", \"ENSG00000083845\", \"ENSG00000100316\", \"ENSG00000229988\",\n",
    "\"ENSG00000213931\", \"ENSG00000130656\", \"ENSG00000206178\", \"ENSG00000086506\"])\n",
    "blacklist_genes = gene_model[(gene_model['feature'] == \"gene\") & (gene_model['group_gene_id'].str.contains(blacklist_regex))][\"group_gene_name\"].unique()\n",
    "print(f\"[Gene Blacklist Filter] Removing {blacklist_genes.size} blacklist genes.\")\n",
    "\n",
    "shape_before = counts.shape\n",
    "counts = counts[~counts.index.isin(blacklist_genes)]\n",
    "shape_after = counts.shape\n",
    "print(f\"[Gene Blacklist Filter] Counts matrix shape changed from {shape_before} to {shape_after} ({shape_before[0] - shape_after[0]} genes removed).\")"
   ]
  },
  {
   "cell_type": "markdown",
   "metadata": {},
   "source": [
    "From this point on, we've no need to do any data munging with the `pandas.DataFrame` objects. Thus, to make things run smoothly, we are going to go ahead and extract the counts data and relevant metadata to a number of `numpy` arrays. This is what is expected by `DESeq2`/`sva` (which both expect R `matrix` objects, which `numpy` arrays automatically map to) and `scikit-learn`. Note that `pandas.DataFrame` objects map to `data.frame` objects in R, which is not desirable.\n",
    "\n",
    "We'll set the following:\n",
    "\n",
    "- `batch`: A 1-D of known batch effects for the ordered sample names with shape (samples, ).\n",
    "- `X`: A 2-D matrix of RNA-Seq expression counts where genes are in rows and samples are in columns with shape (genes, samples).\n",
    "- `samples`: A 1-D matrix containing the ordered sample names aligned with the columns in `X` with shape (samples, ).\n",
    "- `genes`: A 1-D matrix containing the ordered gene names with shape (genes, ).\n",
    "\n",
    "**Caution**, from this point on, you'll need to be ultra careful to keep these numerical matrices in the same order and not mix up columns and/or rows. Pandas will not keep these straight, and you cannot easily join the data on an index anymore."
   ]
  },
  {
   "cell_type": "code",
   "execution_count": 19,
   "metadata": {},
   "outputs": [
    {
     "name": "stdout",
     "output_type": "stream",
     "text": [
      "batch shape: (1576,).\n",
      "X shape: (19228, 1576).\n",
      "samples shape: (1576,).\n",
      "genes shape: (19228,).\n"
     ]
    }
   ],
   "source": [
    "counts = pd.merge(counts.T, metadata[['batch']], how=\"left\", left_index=True, right_index=True)\n",
    "batch = counts['batch']\n",
    "del counts['batch']\n",
    "counts = counts.T\n",
    "X = counts.values\n",
    "samples = counts.columns.values\n",
    "genes = counts.index.values\n",
    "\n",
    "print(f\"batch shape: {batch.shape}.\")\n",
    "print(f\"X shape: {X.shape}.\")\n",
    "print(f\"samples shape: {samples.shape}.\")\n",
    "print(f\"genes shape: {genes.shape}.\")"
   ]
  },
  {
   "cell_type": "markdown",
   "metadata": {},
   "source": [
    "Just to avoid any confusion in the future, we will delete the `counts` and `metadata` objects here so that the `pandas.DataFrame`s aren't used."
   ]
  },
  {
   "cell_type": "code",
   "execution_count": 21,
   "metadata": {},
   "outputs": [
    {
     "ename": "NameError",
     "evalue": "name 'metadata' is not defined",
     "output_type": "error",
     "traceback": [
      "\u001b[0;31m---------------------------------------------------------------------------\u001b[0m",
      "\u001b[0;31mNameError\u001b[0m                                 Traceback (most recent call last)",
      "\u001b[0;32m<ipython-input-21-caa8b18788e4>\u001b[0m in \u001b[0;36m<module>\u001b[0;34m\u001b[0m\n\u001b[0;32m----> 1\u001b[0;31m \u001b[0;32mdel\u001b[0m \u001b[0mmetadata\u001b[0m\u001b[0;34m\u001b[0m\u001b[0;34m\u001b[0m\u001b[0m\n\u001b[0m\u001b[1;32m      2\u001b[0m \u001b[0;32mdel\u001b[0m \u001b[0mcounts\u001b[0m\u001b[0;34m\u001b[0m\u001b[0;34m\u001b[0m\u001b[0m\n",
      "\u001b[0;31mNameError\u001b[0m: name 'metadata' is not defined"
     ]
    }
   ],
   "source": [
    "del metadata\n",
    "del counts"
   ]
  },
  {
   "cell_type": "markdown",
   "metadata": {},
   "source": [
    "## Matrix Transformations"
   ]
  },
  {
   "cell_type": "markdown",
   "metadata": {},
   "source": [
    "Now we can begin applying the necessary transformations appropriate for data visualization using t-SNE. This is where it becomes very useful to switch back and forth between Python and R seamlessly using `rpy2`. \n",
    "\n",
    "First, we'll use `DESeq2`'s `varianceStabilizingTransformation()` function ([docs](https://rdrr.io/bioc/DESeq2/man/varianceStabilizingTransformation.html)) to transform the counts matrix to be homoskedastic in nature. Their documentation does a great job in explaining why this is desirable, so we leave that to their documentation page."
   ]
  },
  {
   "cell_type": "code",
   "execution_count": 24,
   "metadata": {},
   "outputs": [
    {
     "name": "stderr",
     "output_type": "stream",
     "text": [
      "R[write to console]: Error: package or namespace load failed for ‘DESeq2’ in dyn.load(file, DLLpath = DLLpath, ...):\n",
      " unable to load shared object '/Users/cmcleod/conda/envs/rnaseq-count-analysis/lib/R/library/stringi/libs/stringi.dylib':\n",
      "  dlopen(/Users/cmcleod/conda/envs/rnaseq-count-analysis/lib/R/library/stringi/libs/stringi.dylib, 6): Library not loaded: @rpath/libicui18n.58.dylib\n",
      "  Referenced from: /Users/cmcleod/conda/envs/rnaseq-count-analysis/lib/R/library/stringi/libs/stringi.dylib\n",
      "  Reason: image not found\n",
      "\n"
     ]
    },
    {
     "name": "stdout",
     "output_type": "stream",
     "text": [
      "\n",
      "Error: package or namespace load failed for ‘DESeq2’ in dyn.load(file, DLLpath = DLLpath, ...):\n",
      " unable to load shared object '/Users/cmcleod/conda/envs/rnaseq-count-analysis/lib/R/library/stringi/libs/stringi.dylib':\n",
      "  dlopen(/Users/cmcleod/conda/envs/rnaseq-count-analysis/lib/R/library/stringi/libs/stringi.dylib, 6): Library not loaded: @rpath/libicui18n.58.dylib\n",
      "  Referenced from: /Users/cmcleod/conda/envs/rnaseq-count-analysis/lib/R/library/stringi/libs/stringi.dylib\n",
      "  Reason: image not found\n"
     ]
    }
   ],
   "source": [
    "%%R -i X -o X\n",
    "library(DESeq2)\n",
    "X <- varianceStabilizingTransformation(X)"
   ]
  },
  {
   "cell_type": "code",
   "execution_count": null,
   "metadata": {},
   "outputs": [],
   "source": [
    "tpm_df = tpm(merged)\n",
    "metadata['covariates'] = metadata['attr_lab_strandedness'] + \"_\" \\\n",
    "                       + metadata['attr_tissue_preservative'] + \"_\" \\\n",
    "                       + metadata['attr_library_selection_protocol'] + \"_\" \\\n",
    "                       + metadata['attr_read_type']\n",
    "tpm_df = pd.merge(tpm_df.T, metadata[['covariates']], how=\"left\", left_index=True, right_index=True)\n",
    "# print(tpm_df.head())\n",
    "covariates = tpm_df['covariates'].T.astype('category').cat.codes.values\n",
    "del tpm_df['covariates']\n",
    "tpm_df = tpm_df.T\n",
    "print(tpm_df.head())\n",
    "genes = tpm_df.index.values\n",
    "samples = tpm_df.columns.values\n",
    "tpm_df = tpm_df.values\n",
    "print(genes)\n",
    "print(samples)"
   ]
  },
  {
   "cell_type": "code",
   "execution_count": null,
   "metadata": {},
   "outputs": [],
   "source": [
    "%%R -i tpm_df -i covariates -o tpm_df_normalized\n",
    "\n",
    "library(sva)\n",
    "print(dim(tpm_df))\n",
    "# tpm_df <- as.matrix(tpm_df)\n",
    "tpm_df_normalized <- ComBat(tpm_df, covariates, mean.only = FALSE)"
   ]
  },
  {
   "cell_type": "code",
   "execution_count": null,
   "metadata": {},
   "outputs": [],
   "source": [
    "new_df = pd.DataFrame(tpm_df_normalized)\n",
    "new_df.columns = samples\n",
    "new_df.index = genes\n",
    "print(new_df.head())"
   ]
  },
  {
   "cell_type": "code",
   "execution_count": null,
   "metadata": {},
   "outputs": [],
   "source": [
    "# most differentially expressed genes\n",
    "top_de_genes = new_df.mad(axis=1).sort_values(ascending=False).head(1000).index.values\n",
    "top_tpm = new_df[new_df.index.isin(top_de_genes)]\n",
    "\n",
    "samples = top_tpm.columns.values\n",
    "X = top_tpm.values.T\n",
    "\n",
    "print(samples.shape)\n",
    "print(X.shape)"
   ]
  },
  {
   "cell_type": "code",
   "execution_count": null,
   "metadata": {},
   "outputs": [],
   "source": [
    "tsne = TSNE(n_components=2, verbose=1, perplexity=20, n_iter=5000, angle=0)\n",
    "tsne_results = tsne.fit_transform(X)\n",
    "print(tsne_results.shape)"
   ]
  },
  {
   "cell_type": "code",
   "execution_count": null,
   "metadata": {},
   "outputs": [],
   "source": [
    "tsne_df = pd.DataFrame(tsne_results, columns=[\"X\", \"Y\"])\n",
    "tsne_df['Sample ID'] = samples\n",
    "tsne_df.set_index('Sample ID', inplace=True)\n",
    "final_df = pd.merge(metadata, tsne_df, how=\"right\", left_index=True, right_index=True)\n",
    "final_df['sj_diseases'] = final_df['sj_diseases'].astype('category')\n",
    "final_df['sj_long_disease_name'] = final_df['sj_long_disease_name'].astype('category')\n",
    "final_df['attr_diagnosis'] = final_df['attr_diagnosis'].astype('category')\n",
    "\n",
    "DEFAULT_COLOR=\"black\" # for anything not defined in this map\n",
    "palette = {\n",
    "    \"ACC\": \"#66C2A6\", \"ACPG\": \"red\", \"AFH\": \"#d3d3d3\", \"ALAL\": \"black\", \"ALCL\": \"#f9779d\", \"AMKL\": \"#008cff\",\n",
    "    \"AML\": \"#00c0ff\", \"AML\": \"#00c0ff\", \"APLPMLRARA\": \"#ffa500\", \"ARMS\": \"#00aeff\", \"ASPS\": \"#d3d3d3\", \"ATRT\": \"#f9779d\",\n",
    "    \"AULKMT2A\": \"#d3d3d3\", \"BALLBCRABL1\": \"#ff00ff\", \"BALLBCRABL1L\": \"#9759d5\", \"BALLDUX4IGH\": \"#696969\", \"BALLDUX4IGHL\": \"#d3d3d3\", \"BALLETV6RUNX1\": \"#ffd700\",\n",
    "    \"BALLETV6RUNX1L\": \"#d3d3d3\", \"BALLHLF\": \"#d3d3d3\", \"BALLHYPER\": \"#3E9F32\", \"BALLHYPO\": \"#483d8b\", \"BALLIAMP21\": \"#0000ff\", \"BALLIGHCEBPD\": \"#d3d3d3\",\n",
    "    \"BALLKMT2A\": \"#7cfc00\", \"BALLMEF2D\": \"#66C2A6\", \"BALLMYC\": \"#d3d3d3\", \"BALLNOS\": \"#d3d3d3\", \"BALLNUTM1\": \"#8b0000\", \"BALLPAX5\": \"#e88c38\",\n",
    "    \"BALLPAX5P80R\": \"#ffa500\", \"BALLTCF3PBX1\": \"#c8a2c8\", \"BALLZNF384\": \"#A8DD00\", \"BALLZNF384L\": \"#d3d3d3\", \"BCUP\": \"#d3d3d3\", \"BERMS\": \"#9ce5f0\",\n",
    "    \"BGCT\": \"yellow\", \"BL\": \"#d3d3d3\", \"BMGCT\": \"yellow\", \"BYST\": \"yellow\", \"CBF\": \"#00c0ff\", \"CCA\": \"yellow\",\n",
    "    \"CCRCC\": \"#d3d3d3\", \"CCSK\": \"#d3d3d3\", \"CHDM\": \"#d3d3d3\", \"CHOS\": \"#ff00ff\", \"CML\": \"#d3d3d3\", \"CPC\": \"#ffd700\",\n",
    "    \"DES\": \"#8b0000\", \"DFSP\": \"#d3d3d3\", \"DLBCLNOS\": \"#d3d3d3\", \"DSRCT\": \"#daa520\", \"DYS\": \"yellow\", \"EBMT\": \"#ff7b29\",\n",
    "    \"ECNOS\": \"yellow\", \"EPMT\": \"#ffccff\", \"EPMTPF\": \"#ff00ff\", \"EPMTST\": \"#ffccff\", \"EPMTSU\": \"#c042ff\", \"ERMS\": \"#0000ff\",\n",
    "    \"ETMR\": \"#ff7b29\", \"EWS\": \"#d277f3\", \"FIBS\": \"#d3d3d3\", \"FMS\": \"#d3d3d3\", \"GCT\": \"yellow\", \"GIST\": \"#d3d3d3\",\n",
    "    \"GMN\": \"yellow\", \"GNG\": \"#d3d3d3\", \"HB\": \"#e76836\", \"HCC\": \"#ffa500\", \"HGGNOS\": \"#0006c2\", \"HGNET\": \"#8fb90a\",\n",
    "    \"IFS\": \"#d3d3d3\", \"LGGNOS\": \"#00c0ff\", \"MBL\": \"#7cfc00\", \"MBLG3\": \"#2fd090\", \"MBLG4\": \"#2fd090\", \"MBLSHH\": \"#29a20b\",\n",
    "    \"MBLWNT\": \"#287415\", \"MBT\": \"#d3d3d3\", \"MDS\": \"#d3d3d3\", \"MEL\": \"#9531ed\", \"MEPMST\": \"#ffccff\", \"MFH\": \"#d3d3d3\",\n",
    "    \"MGCT\": \"yellow\", \"MGCTNOS\": \"yellow\", \"MNG\": \"#8b0000\", \"MPE\": \"#ffccff\", \"MPEFV\": \"#ffccff\", \"MPEPF\": \"#ff00ff\",\n",
    "    \"MPNST\": \"#d3d3d3\", \"MRT\": \"#c01111\", \"MRTL\": \"#c01111\", \"MS\": \"#d3d3d3\", \"MSCERMS\": \"#00c0ff\", \"MUCC\": \"#d3d3d3\",\n",
    "    \"NBL\": \"#f9779d\", \"NFIB\": \"#d3d3d3\", \"ODYS\": \"yellow\", \"OMGCT\": \"yellow\", \"OS\": \"#ff00ff\", \"PANET\": \"#d3d3d3\",\n",
    "    \"PBL\": \"#d3d3d3\", \"PDYS\": \"yellow\", \"PRCC\": \"#eb1414\", \"RBL\": \"#ffd700\", \"RCC\": \"#eb1414\", \"RCSNOS\": \"#d3d3d3\",\n",
    "    \"RMS\": \"#00c0ff\", \"SCCNOS\": \"#d3d3d3\", \"SCRMS\": \"#d3d3d3\", \"SCSNOS\": \"#d3d3d3\", \"SCSRMS\": \"#d3d3d3\", \"SCUP\": \"#d3d3d3\",\n",
    "    \"SETTLE\": \"#d3d3d3\", \"SIPT\": \"#d3d3d3\", \"SYNS\": \"#d3d3d3\", \"TALL\": \"red\", \"TALLKMT2A\": \"red\", \"THFO\": \"#11c598\",\n",
    "    \"THPA\": \"#11c598\", \"TLL\": \"#d3d3d3\", \"TTC\": \"yellow\", \"TTNOS\": \"yellow\", \"UESL\": \"#ffa500\", \"WT\": \"#29a20b\",\n",
    "    \"WTB\": \"#7cfc00\", \"YSTNOS\": \"yellow\"\n",
    "}\n",
    "\n",
    "final_df['color'] = final_df['sj_diseases'].apply(lambda x: palette.get(x, DEFAULT_COLOR))\n",
    "final_df.index.set_names('sample_id', inplace=True)\n",
    "final_df.reset_index(inplace=True)"
   ]
  },
  {
   "cell_type": "code",
   "execution_count": null,
   "metadata": {},
   "outputs": [],
   "source": [
    "p = figure(plot_width=900, plot_height=600, tooltips=[(\"Sample ID\", \"@sample_id\"), (\"Diagnosis Code\", \"@sj_diseases\"), (\"Diagnosis\", \"@sj_long_disease_name\")])\n",
    "p.scatter(x=\"X\", y=\"Y\", color=\"color\", source=ColumnDataSource(final_df))\n",
    "show(p)\n",
    "\n",
    "# fig, ax = plt.subplots()\n",
    "\n",
    "# grouped = final_df.groupby('sj_diseases')\n",
    "# for (key, group), color in zip(grouped, palette):\n",
    "#     group.plot(ax=ax, kind='scatter', x='X', y='Y', label=key, color=palette.get(key, \"black\"))\n",
    "\n",
    "# plt.show()"
   ]
  },
  {
   "cell_type": "markdown",
   "metadata": {},
   "source": [
    "## Untriaged"
   ]
  },
  {
   "cell_type": "code",
   "execution_count": null,
   "metadata": {},
   "outputs": [],
   "source": [
    "expected_shape = (counts.shape[0], counts.shape[1] + 1)\n",
    "merged = pd.merge(df[['Gene Length']], counts, how=\"right\", left_index=True, right_index=True)\n",
    "merged['Gene Length'] = merged['Gene Length'].astype(np.int64)\n",
    "assert merged.shape == expected_shape, \"Merged shape does not match expected shape. Error!\""
   ]
  }
 ],
 "metadata": {
  "kernelspec": {
   "display_name": "Python 3",
   "language": "python",
   "name": "python3"
  },
  "language_info": {
   "codemirror_mode": {
    "name": "ipython",
    "version": 3
   },
   "file_extension": ".py",
   "mimetype": "text/x-python",
   "name": "python",
   "nbconvert_exporter": "python",
   "pygments_lexer": "ipython3",
   "version": "3.7.8"
  }
 },
 "nbformat": 4,
 "nbformat_minor": 4
}
